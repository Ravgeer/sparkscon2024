{
  "cells": [
    {
      "cell_type": "markdown",
      "metadata": {
        "id": "view-in-github",
        "colab_type": "text"
      },
      "source": [
        "<a href=\"https://colab.research.google.com/github/Ravgeer/sparkscon2024/blob/main/ComputerVision_Sparkscon2024.ipynb\" target=\"_parent\"><img src=\"https://colab.research.google.com/assets/colab-badge.svg\" alt=\"Open In Colab\"/></a>"
      ]
    },
    {
      "cell_type": "markdown",
      "source": [
        "# **1. Connect G-Drive, copy data and unzip**"
      ],
      "metadata": {
        "id": "JRL1H5IhphHt"
      }
    },
    {
      "cell_type": "code",
      "execution_count": null,
      "metadata": {
        "id": "NZfUUv8LpncA"
      },
      "outputs": [],
      "source": [
        "from google.colab import drive\n",
        "drive.mount('/content/drive')"
      ]
    },
    {
      "cell_type": "code",
      "source": [
        "!cp /content/drive/MyDrive/adesso/wm21.zip /content"
      ],
      "metadata": {
        "id": "w8kPMrmnYLsA"
      },
      "execution_count": null,
      "outputs": []
    },
    {
      "cell_type": "code",
      "execution_count": null,
      "metadata": {
        "id": "iPX6axNwmox5"
      },
      "outputs": [],
      "source": [
        "!unzip -q /content/wm21.zip -d /content"
      ]
    },
    {
      "cell_type": "code",
      "source": [
        "!git clone https://github.com/Ravgeer/sparkscon2024"
      ],
      "metadata": {
        "colab": {
          "base_uri": "https://localhost:8080/"
        },
        "id": "brOZx1UwbfT9",
        "outputId": "ea96c0f0-2e86-4279-86de-08b001993619"
      },
      "execution_count": 1,
      "outputs": [
        {
          "output_type": "stream",
          "name": "stdout",
          "text": [
            "Cloning into 'sparkscon2024'...\n",
            "remote: Enumerating objects: 7, done.\u001b[K\n",
            "remote: Counting objects: 100% (7/7), done.\u001b[K\n",
            "remote: Compressing objects: 100% (4/4), done.\u001b[K\n",
            "remote: Total 7 (delta 0), reused 0 (delta 0), pack-reused 0\u001b[K\n",
            "Receiving objects: 100% (7/7), done.\n"
          ]
        }
      ]
    },
    {
      "cell_type": "markdown",
      "source": [
        "# **2. Install YOLO and it's pretrained models**"
      ],
      "metadata": {
        "id": "QFr3j0YgpVht"
      }
    },
    {
      "cell_type": "code",
      "execution_count": 2,
      "metadata": {
        "id": "wbvMlHd_QwMG",
        "colab": {
          "base_uri": "https://localhost:8080/"
        },
        "outputId": "acc5556a-5922-4104-8016-041d82b7e4c9"
      },
      "outputs": [
        {
          "output_type": "stream",
          "name": "stderr",
          "text": [
            "YOLOv5 🚀 v7.0-324-gbb27bf78 Python-3.10.12 torch-2.3.0+cu121 CUDA:0 (Tesla T4, 15102MiB)\n"
          ]
        },
        {
          "output_type": "stream",
          "name": "stdout",
          "text": [
            "Setup complete ✅ (2 CPUs, 12.7 GB RAM, 30.3/201.2 GB disk)\n"
          ]
        }
      ],
      "source": [
        "!git clone https://github.com/ultralytics/yolov5  # clone\n",
        "%cd yolov5\n",
        "%pip install -qr requirements.txt  # install\n",
        "\n",
        "import torch\n",
        "import utils\n",
        "display = utils.notebook_init()  # checks"
      ]
    },
    {
      "cell_type": "code",
      "execution_count": null,
      "metadata": {
        "id": "BJWsUSi2e93W"
      },
      "outputs": [],
      "source": [
        "from utils.downloads import attempt_download\n",
        "p5 = ['n','s','l','m','x']\n",
        "\n",
        "cls = [f'{x}-cls' for x in p5]\n",
        "\n",
        "for x in cls:\n",
        "  attempt_download(f'weights/yolov5{x}.pt')"
      ]
    },
    {
      "cell_type": "markdown",
      "metadata": {
        "id": "ljfxvCpKIz1W"
      },
      "source": [
        "# **3.a. Object recognition training and test detection**"
      ]
    },
    {
      "cell_type": "code",
      "execution_count": null,
      "metadata": {
        "id": "1NcFxRcFdJ_O"
      },
      "outputs": [],
      "source": [
        "!python train.py --img 1200 --batch 8 --epochs 200 --data /content/wm_recognition/config/coco128.yaml --weights yolov5l.pt --cache"
      ]
    },
    {
      "cell_type": "code",
      "execution_count": null,
      "metadata": {
        "id": "AV5CTwOAuSfT"
      },
      "outputs": [],
      "source": [
        "!python detect.py --source /content/wm_recognition/images/test/beko2.jpg --weights runs/train/exp3/weights/best.pt --save-txt --img 1200 --conf 0.50\n"
      ]
    },
    {
      "cell_type": "markdown",
      "metadata": {
        "id": "uGTFAAQjJlWv"
      },
      "source": [
        "# **3.b. Image classification training and test detection**\n",
        "\n",
        "\n",
        "\n",
        "\n",
        "\n"
      ]
    },
    {
      "cell_type": "code",
      "execution_count": null,
      "metadata": {
        "id": "X1adDuEtJUvd",
        "colab": {
          "base_uri": "https://localhost:8080/"
        },
        "outputId": "b3977150-c554-4402-d6c0-db9280e137d8"
      },
      "outputs": [
        {
          "output_type": "stream",
          "name": "stdout",
          "text": [
            "2024-05-14 09:06:10.906607: E external/local_xla/xla/stream_executor/cuda/cuda_dnn.cc:9261] Unable to register cuDNN factory: Attempting to register factory for plugin cuDNN when one has already been registered\n",
            "2024-05-14 09:06:10.906662: E external/local_xla/xla/stream_executor/cuda/cuda_fft.cc:607] Unable to register cuFFT factory: Attempting to register factory for plugin cuFFT when one has already been registered\n",
            "2024-05-14 09:06:10.908073: E external/local_xla/xla/stream_executor/cuda/cuda_blas.cc:1515] Unable to register cuBLAS factory: Attempting to register factory for plugin cuBLAS when one has already been registered\n",
            "\u001b[34m\u001b[1mclassify/train: \u001b[0mmodel=yolov5l-cls.pt, data=/content/wm_classification, epochs=50, batch_size=16, imgsz=640, nosave=False, cache=None, device=, workers=8, project=runs/train-cls, name=exp, exist_ok=False, pretrained=True, optimizer=Adam, lr0=0.001, decay=5e-05, label_smoothing=0.1, cutoff=None, dropout=None, verbose=False, seed=0, local_rank=-1\n",
            "\u001b[34m\u001b[1mgithub: \u001b[0mup to date with https://github.com/ultralytics/yolov5 ✅\n",
            "YOLOv5 🚀 v7.0-312-g1bcd17ee Python-3.10.12 torch-2.2.1+cu121 CUDA:0 (Tesla T4, 15102MiB)\n",
            "\n",
            "\u001b[34m\u001b[1mTensorBoard: \u001b[0mStart with 'tensorboard --logdir runs/train-cls', view at http://localhost:6006/\n",
            "\u001b[34m\u001b[1malbumentations: \u001b[0mRandomResizedCrop(p=1.0, height=640, width=640, scale=(0.08, 1.0), ratio=(0.75, 1.3333333333333333), interpolation=1), HorizontalFlip(p=0.5), ColorJitter(p=0.5, brightness=[0.6, 1.4], contrast=[0.6, 1.4], saturation=[0.6, 1.4], hue=[0, 0]), Normalize(p=1.0, mean=(0.485, 0.456, 0.406), std=(0.229, 0.224, 0.225), max_pixel_value=255.0), ToTensorV2(always_apply=True, p=1.0, transpose_mask=False)\n",
            "Downloading https://github.com/ultralytics/yolov5/releases/download/v7.0/yolov5l-cls.pt to yolov5l-cls.pt...\n",
            "100% 50.9M/50.9M [00:00<00:00, 135MB/s]\n",
            "\n",
            "Model summary: 275 layers, 25278085 parameters, 25278085 gradients, 68.8 GFLOPs\n",
            "\u001b[34m\u001b[1moptimizer:\u001b[0m Adam(lr=0.001) with parameter groups 60 weight(decay=0.0), 61 weight(decay=5e-05), 61 bias\n",
            "Image sizes 640 train, 640 test\n",
            "Using 1 dataloader workers\n",
            "Logging results to \u001b[1mruns/train-cls/exp9\u001b[0m\n",
            "Starting yolov5l-cls.pt training on /content/wm_classification dataset with 5 classes for 50 epochs...\n",
            "\n",
            "     Epoch   GPU_mem  train_loss   test_loss    top1_acc    top5_acc\n",
            "      1/50     6.83G       0.908       0.747       0.918           1: 100% 794/794 [28:26<00:00,  2.15s/it]\n",
            "      2/50      8.3G       0.796       0.539       0.973           1: 100% 794/794 [28:49<00:00,  2.18s/it]\n",
            "      3/50      8.3G       0.771       0.493       0.989           1: 100% 794/794 [29:18<00:00,  2.22s/it]\n",
            "      4/50      8.3G       0.758       0.534       0.984           1: 100% 794/794 [28:54<00:00,  2.18s/it]\n",
            "      5/50      8.3G       0.751        0.48       0.993           1: 100% 794/794 [29:07<00:00,  2.20s/it]\n",
            "      6/50      8.3G       0.754        0.51       0.984           1: 100% 794/794 [29:04<00:00,  2.20s/it]\n",
            "      7/50      8.3G       0.738       0.585       0.987           1: 100% 794/794 [28:12<00:00,  2.13s/it]\n",
            "      8/50      8.3G       0.736       0.453       0.995           1: 100% 794/794 [28:53<00:00,  2.18s/it]\n",
            "      9/50      8.3G       0.733       0.442       0.998           1: 100% 794/794 [28:37<00:00,  2.16s/it]\n",
            "     10/50      8.3G       0.721       0.435       0.995           1: 100% 794/794 [28:15<00:00,  2.14s/it]\n",
            "     11/50      8.3G       0.698       0.431       0.996           1: 100% 794/794 [28:34<00:00,  2.16s/it]\n",
            "     12/50      8.3G       0.714       0.436       0.995           1: 100% 794/794 [28:19<00:00,  2.14s/it]\n",
            "     13/50      8.3G       0.706       0.448       0.998           1: 100% 794/794 [28:11<00:00,  2.13s/it]\n",
            "     14/50      8.3G         0.7       0.438       0.998           1: 100% 794/794 [28:07<00:00,  2.13s/it]\n",
            "     15/50      8.3G       0.677       0.446       0.998           1: 100% 794/794 [28:18<00:00,  2.14s/it]\n",
            "     16/50      8.3G       0.675       0.456       0.996           1: 100% 794/794 [28:28<00:00,  2.15s/it]\n",
            "     17/50      8.3G       0.682       0.458       0.995           1: 100% 794/794 [28:42<00:00,  2.17s/it]\n",
            "     18/50      8.3G       0.667       0.455       0.998           1: 100% 794/794 [28:48<00:00,  2.18s/it]\n",
            "     19/50      8.3G       0.673       0.456       0.998           1: 100% 794/794 [28:41<00:00,  2.17s/it]\n",
            "     20/50      8.3G       0.666       0.453       0.996           1: 100% 794/794 [28:33<00:00,  2.16s/it]\n",
            "     21/50      8.3G       0.664       0.449       0.996           1: 100% 794/794 [28:48<00:00,  2.18s/it]\n",
            "     22/50      8.3G       0.657       0.445       0.996           1: 100% 794/794 [28:27<00:00,  2.15s/it]\n",
            "     23/50      8.3G       0.653       0.445       0.996           1: 100% 794/794 [28:34<00:00,  2.16s/it]\n",
            "     24/50      8.3G       0.651       0.444       0.996           1: 100% 794/794 [28:45<00:00,  2.17s/it]\n",
            "     25/50      8.3G       0.651       0.443       0.996           1: 100% 794/794 [28:45<00:00,  2.17s/it]\n",
            "     26/50      8.3G       0.645       0.442       0.996           1: 100% 794/794 [28:37<00:00,  2.16s/it]\n",
            "     27/50      8.3G       0.649        0.44       0.996           1: 100% 794/794 [28:47<00:00,  2.18s/it]\n",
            "     28/50      8.3G       0.634       0.438       0.996           1: 100% 794/794 [29:07<00:00,  2.20s/it]\n",
            "     29/50      8.3G       0.637       0.436       0.996           1: 100% 794/794 [28:54<00:00,  2.18s/it]\n",
            "     30/50      8.3G       0.644       0.434       0.998           1: 100% 794/794 [28:45<00:00,  2.17s/it]\n",
            "     31/50      8.3G       0.633       0.431       0.998           1: 100% 794/794 [28:25<00:00,  2.15s/it]\n",
            "     32/50      8.3G       0.631       0.429       0.998           1: 100% 794/794 [28:21<00:00,  2.14s/it]\n",
            "     33/50      8.3G       0.634                                    :  36% 283/794 [09:50<17:26,  2.05s/it]"
          ]
        }
      ],
      "source": [
        "!python -W ignore classify/train.py --img 640 --batch 16 --epochs 50 --data  /content/wm_classification --model yolov5l-cls.pt"
      ]
    },
    {
      "cell_type": "code",
      "execution_count": null,
      "metadata": {
        "id": "m8hynUAJT75H"
      },
      "outputs": [],
      "source": [
        "!python classify/predict.py --weights runs/train-cls/exp2/weights/best.pt --source /content/wm_recognition/images/train/a1c881e6-Beko_WMC91464ST1_15.jpg --save-txt"
      ]
    },
    {
      "cell_type": "markdown",
      "source": [
        "Vishal's trails"
      ],
      "metadata": {
        "id": "b4kYrKwgTcC_"
      }
    },
    {
      "cell_type": "code",
      "source": [
        "!python -W ignore classify/train.py --img 640 --batch 16 --epochs 10 --data  /content/wm_classification --model yolov5x-cls.pt"
      ],
      "metadata": {
        "id": "h2f6pkt3TboP"
      },
      "execution_count": null,
      "outputs": []
    },
    {
      "cell_type": "markdown",
      "metadata": {
        "id": "stkwgjIXVXi7"
      },
      "source": [
        "# **4. Export model**"
      ]
    },
    {
      "cell_type": "code",
      "source": [
        "!python export.py --weights runs/train-cls/exp9/weights/best.pt --include onnx"
      ],
      "metadata": {
        "id": "JLu_pmVeOYX_"
      },
      "execution_count": null,
      "outputs": []
    },
    {
      "cell_type": "code",
      "execution_count": null,
      "metadata": {
        "id": "QmKXMB_Ucxde"
      },
      "outputs": [],
      "source": [
        "!python export.py --weights runs/train/exp/weights/best.pt --include torchscript onnx saved_model"
      ]
    },
    {
      "cell_type": "markdown",
      "source": [
        "# **5. Load Model**"
      ],
      "metadata": {
        "id": "x9DlkPgHd_Oi"
      }
    },
    {
      "cell_type": "code",
      "execution_count": null,
      "metadata": {
        "id": "4knIuxLxZ3xt"
      },
      "outputs": [],
      "source": [
        "from ultralytics import YOLO\n",
        "\n",
        "# Load a model\n",
        "# model = YOLO('yolov8n.pt')  # load an official model\n",
        "model = YOLO('/content/yolov5/runs/train/exp/weights/best.pt')  # load a custom trained model\n",
        "\n",
        "# Export the model\n",
        "model.export(format='onnx')"
      ]
    },
    {
      "cell_type": "markdown",
      "source": [
        "# **Archive**"
      ],
      "metadata": {
        "id": "ZDJX8G1vdqly"
      }
    },
    {
      "cell_type": "code",
      "execution_count": null,
      "metadata": {
        "id": "5C2PY6MqQnuL"
      },
      "outputs": [],
      "source": [
        "!mkdir /content/washing_machines/images/train\n",
        "!mkdir /content/washing_machines/images/val\n",
        "\n",
        "!mv /content/washing_machines/images/{1..50}.jpg.jpg /content/washing_machines/images/train\n",
        "!mv /content/washing_machines/images/{51..77}.jpg.jpg /content/washing_machines/images/val\n",
        "\n",
        "!mkdir /content/washing_machines/labels/train\n",
        "!mkdir /content/washing_machines/labels/val\n",
        "\n",
        "!mv /content/washing_machines/labels/{1..50}.jpg.txt /content/washing_machines/labels/train\n",
        "!mv /content/washing_machines/labels/{51..77}.jpg.txt /content/washing_machines/labels/val"
      ]
    },
    {
      "cell_type": "code",
      "execution_count": null,
      "metadata": {
        "id": "F2LWe8i4i-QW"
      },
      "outputs": [],
      "source": [
        "!zip -r /content/drive/MyDrive/model_classification21.zip /content/yolov5/runs/train-cls/exp9"
      ]
    },
    {
      "cell_type": "code",
      "execution_count": null,
      "metadata": {
        "id": "5R_HUswHqHrP"
      },
      "outputs": [],
      "source": [
        "!cp /content/model.zip /content/drive/MyDrive"
      ]
    },
    {
      "cell_type": "code",
      "source": [
        "!rm -rf /content/wm_classification/"
      ],
      "metadata": {
        "id": "Fz9RCtEVZCV2"
      },
      "execution_count": null,
      "outputs": []
    }
  ],
  "metadata": {
    "accelerator": "GPU",
    "colab": {
      "collapsed_sections": [
        "QFr3j0YgpVht",
        "x9DlkPgHd_Oi"
      ],
      "provenance": [],
      "gpuType": "T4",
      "include_colab_link": true
    },
    "kernelspec": {
      "display_name": "Python 3",
      "name": "python3"
    }
  },
  "nbformat": 4,
  "nbformat_minor": 0
}