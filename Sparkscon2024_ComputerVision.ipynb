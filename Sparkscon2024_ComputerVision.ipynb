{
  "cells": [
    {
      "cell_type": "markdown",
      "metadata": {
        "id": "view-in-github",
        "colab_type": "text"
      },
      "source": [
        "<a href=\"https://colab.research.google.com/github/Ravgeer/sparkscon2024/blob/main/Sparkscon2024_ComputerVision.ipynb\" target=\"_parent\"><img src=\"https://colab.research.google.com/assets/colab-badge.svg\" alt=\"Open In Colab\"/></a>"
      ]
    },
    {
      "cell_type": "markdown",
      "metadata": {
        "id": "JRL1H5IhphHt"
      },
      "source": [
        "---\n",
        "# **1. Clone Data Directory, Pretrained Models, Scripts and Augmentations**\n"
      ]
    },
    {
      "cell_type": "code",
      "execution_count": null,
      "metadata": {
        "id": "w8kPMrmnYLsA",
        "collapsed": true
      },
      "outputs": [],
      "source": [
        "!git clone https://github.com/Ravgeer/sparkscon2024"
      ]
    },
    {
      "cell_type": "markdown",
      "metadata": {
        "id": "QFr3j0YgpVht"
      },
      "source": [
        "---\n",
        "# **2. Clone and Install YOLO and download pre-trained models for Classification**\n"
      ]
    },
    {
      "cell_type": "code",
      "execution_count": null,
      "metadata": {
        "id": "wbvMlHd_QwMG",
        "collapsed": true
      },
      "outputs": [],
      "source": [
        "!git clone https://github.com/ultralytics/yolov5  # clone\n",
        "%cd yolov5\n",
        "%pip install -qr requirements.txt  # install\n",
        "\n",
        "import torch\n",
        "import utils\n",
        "display = utils.notebook_init()  # checks"
      ]
    },
    {
      "cell_type": "code",
      "execution_count": null,
      "metadata": {
        "id": "cDVxFZLdhXX3",
        "collapsed": true
      },
      "outputs": [],
      "source": [
        "from utils.downloads import attempt_download\n",
        "p5 = ['n','s','l','m','x']\n",
        "\n",
        "cls = [f'{x}-cls' for x in p5]\n",
        "\n",
        "for x in cls:\n",
        "  attempt_download(f'weights/yolov5{x}.pt')"
      ]
    },
    {
      "cell_type": "markdown",
      "metadata": {
        "id": "Ro_1BxWKa6UK"
      },
      "source": [
        "---\n",
        "# **3. Generate Augmentations**\n"
      ]
    },
    {
      "cell_type": "code",
      "execution_count": null,
      "metadata": {
        "id": "Jcb5B2rc_Uy_"
      },
      "outputs": [],
      "source": [
        "### Python Script for image scraping from Weblinks\n",
        "!python /content/yolov5/sparkscon2024/scripts/scrape_images.py 'https://www.shutterstock.com/search/granny-smith?image_type=photo' '/content/scrape_images/apples/granny_smith_new' --delay 1.0\n"
      ]
    },
    {
      "cell_type": "code",
      "execution_count": null,
      "metadata": {
        "id": "7yOjXNpp_RaC"
      },
      "outputs": [],
      "source": [
        "### Python Script for image Augmentation from data Source\n",
        "!python /content/yolov5/sparkscon2024/scripts/augmented_images.py '/content/sparkscon2024/scrape_images/apples/train/braeburn' '/content/sparkscon2024/scrape_images/apples/train/braeburn_new' --num_augmentations 2"
      ]
    },
    {
      "cell_type": "markdown",
      "metadata": {
        "id": "ljfxvCpKIz1W"
      },
      "source": [
        "---\n",
        "# **4. Image Classification Training**\n",
        "\n",
        "\n"
      ]
    },
    {
      "cell_type": "code",
      "execution_count": null,
      "metadata": {
        "id": "6dJ-YGB0Vjy6"
      },
      "outputs": [],
      "source": [
        "#Connect G-Drive to exchange data\n",
        "from google.colab import drive\n",
        "drive.mount('/content/drive')"
      ]
    },
    {
      "cell_type": "code",
      "execution_count": null,
      "metadata": {
        "collapsed": true,
        "id": "2Vl6gAOwYCtB"
      },
      "outputs": [],
      "source": [
        "### set optimal_batch_size\n",
        "import torch\n",
        "from utils.torch_utils import select_device\n",
        "from utils.autobatch import check_train_batch_size\n",
        "\n",
        "def find_optimal_batch(weights, imgsz=640, amp=True):\n",
        "    # Select the device (GPU or CPU)\n",
        "    device = select_device('')\n",
        "    print(f\"selected_device: {device}\")\n",
        "    # Load the model\n",
        "    model = torch.load(weights, map_location=device)['model'].float()  # Load FP32 model\n",
        "    model.fuse()  # Fuse Conv2d + BatchNorm2d layers\n",
        "    if amp:\n",
        "        model.half()  # Convert model to FP16 if amp (automatic mixed precision) is enabled\n",
        "\n",
        "    # Find optimal batch size\n",
        "    return check_train_batch_size(model, imgsz=imgsz, amp=amp)\n",
        "\n",
        "if __name__ == '__main__':\n",
        "    weights = '/content/yolov5/weights/yolov5l-cls.pt'  # Path to your weights file\n",
        "    imgsz = 640  # Image size\n",
        "    amp = True  # Automatic Mixed Precision (AMP)\n",
        "\n",
        "    optimal_batch_size = find_optimal_batch(weights, imgsz, amp)\n",
        "    print(f\"Optimal batch size: {optimal_batch_size}\")\n"
      ]
    },
    {
      "cell_type": "code",
      "execution_count": null,
      "metadata": {
        "id": "1idt5_xMc0Hz",
        "collapsed": true
      },
      "outputs": [],
      "source": [
        "## optimal_batch_size ##\n",
        "!python -W ignore classify/train.py --batch {optimal_batch_size} --epochs 2 --data  /content/sparkscon2024/scrape_images/apples/ --model yolov5s-cls.pt --name yolov5s_results\n"
      ]
    },
    {
      "cell_type": "code",
      "execution_count": null,
      "metadata": {
        "id": "Jz0MylfV_ORw"
      },
      "outputs": [],
      "source": [
        "### User defined batch size ##\n",
        "!python -W ignore classify/train.py --img 640 --batch 16 --epochs 2 --data  /content/sparkscon2024/scrape_images/apples/ --model yolov5l-cls.pt --name yolov5l_results\n"
      ]
    },
    {
      "cell_type": "code",
      "execution_count": null,
      "metadata": {
        "id": "2sakisRB_Z24"
      },
      "outputs": [],
      "source": [
        "#### We can copy our trained models in Google drive with this command\n",
        "!cp -r /content/yolov5/runs/train-cls/  /content/drive/MyDrive/"
      ]
    },
    {
      "cell_type": "markdown",
      "metadata": {
        "id": "8OonQ7MDZ8Dc"
      },
      "source": [
        "---\n",
        "# **5. Test Custom Model using Test Images**\n"
      ]
    },
    {
      "cell_type": "code",
      "execution_count": null,
      "metadata": {
        "id": "AV5CTwOAuSfT",
        "collapsed": true
      },
      "outputs": [],
      "source": [
        "!python classify/predict.py --weights /content/sparkscon2024/models/weights/best.pt --source /content/sparkscon2024/scrape_images/apples/test/jonagored/pear-amidst-red-jonagored-apples-260nw-2389319923.jpg --save-txt\n",
        "\n",
        "### yolo_models_path:     /content/yolov5/runs/train-cls/yolov5l_results/weights/best.pt\n",
        "### standard yolo model:  yolov5l-cls.pt"
      ]
    },
    {
      "cell_type": "markdown",
      "metadata": {
        "id": "stkwgjIXVXi7"
      },
      "source": [
        "---\n",
        "# **6. Export model**\n"
      ]
    },
    {
      "cell_type": "code",
      "execution_count": null,
      "metadata": {
        "id": "JLu_pmVeOYX_",
        "collapsed": true
      },
      "outputs": [],
      "source": [
        "!python export.py --weights /content/yolov5/runs/train-cls/yolov5l_results/weights/best.pt --include onnx"
      ]
    },
    {
      "cell_type": "markdown",
      "metadata": {
        "id": "x9DlkPgHd_Oi"
      },
      "source": [
        "---\n",
        "# **7. Load Model**\n"
      ]
    },
    {
      "cell_type": "code",
      "execution_count": null,
      "metadata": {
        "id": "4knIuxLxZ3xt",
        "collapsed": true
      },
      "outputs": [],
      "source": [
        "from ultralytics import YOLO\n",
        "\n",
        "# Load a model\n",
        "# model = YOLO('yolov8n.pt')  # load an official model\n",
        "model = YOLO('/content/yolov5/runs/train-cls/yolov5l_results/weights/best.pt')  # load a custom trained model\n",
        "\n",
        "# Export the model\n",
        "model.export(format='onnx')"
      ]
    },
    {
      "cell_type": "markdown",
      "metadata": {
        "id": "ZDJX8G1vdqly"
      },
      "source": [
        "---\n",
        "# **Archive**\n"
      ]
    },
    {
      "cell_type": "code",
      "execution_count": null,
      "metadata": {
        "id": "J4EG87kj_wjw"
      },
      "outputs": [],
      "source": [
        "#Connect G-Drive to exchange data\n",
        "from google.colab import drive\n",
        "drive.mount('/content/drive')"
      ]
    },
    {
      "cell_type": "code",
      "execution_count": null,
      "metadata": {
        "id": "265AiNodBsCW"
      },
      "outputs": [],
      "source": [
        "## required for Autobatch\n",
        "%cd ..\n",
        "!git clone https://github.com/ultralytics/ultralytics.git"
      ]
    },
    {
      "cell_type": "code",
      "execution_count": null,
      "metadata": {
        "id": "YKQ5r-GdC-TV"
      },
      "outputs": [],
      "source": [
        "###!python /content/yolov5/ultralytics/ultralytics/utils/autobatch.py"
      ]
    },
    {
      "cell_type": "code",
      "execution_count": null,
      "metadata": {
        "id": "nxFiOaXyH3u8"
      },
      "outputs": [],
      "source": [
        "%pwd"
      ]
    },
    {
      "cell_type": "code",
      "source": [
        "!rm -r '/content/scrape_images'"
      ],
      "metadata": {
        "id": "Q-OEsaV3eWym"
      },
      "execution_count": null,
      "outputs": []
    }
  ],
  "metadata": {
    "accelerator": "GPU",
    "colab": {
      "gpuType": "T4",
      "provenance": [],
      "include_colab_link": true
    },
    "kernelspec": {
      "display_name": "Python 3",
      "name": "python3"
    }
  },
  "nbformat": 4,
  "nbformat_minor": 0
}